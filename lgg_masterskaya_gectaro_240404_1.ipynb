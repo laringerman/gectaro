{
 "cells": [
  {
   "cell_type": "markdown",
   "metadata": {},
   "source": [
    "# Аналитика данных компании Gectaro"
   ]
  },
  {
   "cell_type": "markdown",
   "metadata": {},
   "source": [
    "**Цель проекта**  \n",
    "  \n",
    "Проанализировать имеющиеся данные, составить портреты наиболее типичных клиентов, разобраться в причинах оттока клиентов, предложить решения по их минимизации. Для этого предлагается определить ключевые признаки для компаний, наличие которых (или их появление) влияет на отмену (отсутствие оплаты) подписки."
   ]
  },
  {
   "cell_type": "markdown",
   "metadata": {},
   "source": [
    "## Загрузка данных и подготовка к анализу"
   ]
  },
  {
   "cell_type": "markdown",
   "metadata": {},
   "source": [
    "### Загрузка библиотек"
   ]
  },
  {
   "cell_type": "code",
   "execution_count": 1,
   "metadata": {},
   "outputs": [],
   "source": [
    "import pandas as pd\n",
    "import re\n",
    "import matplotlib.pyplot as plt\n",
    "import datetime as dt\n",
    "import seaborn as sns\n",
    "import numpy as np\n",
    "import warnings"
   ]
  },
  {
   "cell_type": "markdown",
   "metadata": {},
   "source": [
    "Уберем ограничение по выводу строк, колонок и символов в записи и включаем игнорирование ошибок Jupiter."
   ]
  },
  {
   "cell_type": "code",
   "execution_count": 2,
   "metadata": {},
   "outputs": [],
   "source": [
    "# Сброс ограничений на количество выводимых рядов\n",
    "pd.set_option('display.max_rows', None)\n",
    " \n",
    "# Сброс ограничений на число столбцов\n",
    "pd.set_option('display.max_columns', None)\n",
    " \n",
    "# Сброс ограничений на количество символов в записи\n",
    "pd.set_option('display.max_colwidth', None)\n",
    "\n",
    "#Игнорируем предупреждения Jupiter\n",
    "warnings.filterwarnings('ignore')"
   ]
  },
  {
   "cell_type": "markdown",
   "metadata": {},
   "source": [
    "Прописываем темы визуализации."
   ]
  },
  {
   "cell_type": "code",
   "execution_count": 3,
   "metadata": {},
   "outputs": [],
   "source": [
    "sns.set_style('darkgrid')\n",
    "plt.style.use('ggplot')"
   ]
  },
  {
   "cell_type": "markdown",
   "metadata": {},
   "source": [
    "### Загрузка данных"
   ]
  },
  {
   "cell_type": "markdown",
   "metadata": {},
   "source": [
    "Запишем датафрейммы  activities.csv, billing.csv, companies.csv и people.csv в датасеты  activities, billing, companies и people соответственно."
   ]
  },
  {
   "cell_type": "code",
   "execution_count": 4,
   "metadata": {},
   "outputs": [],
   "source": [
    "try:\n",
    "    activities, billing, companies, people = (\n",
    "        pd.read_csv('data/activities.csv', index_col=0),\n",
    "        pd.read_csv('data/billing.csv', index_col=0),\n",
    "        pd.read_csv('data/companies.csv', index_col=0),\n",
    "        pd.read_csv('data/people.csv', index_col=0)\n",
    "    )\n",
    "\n",
    "\n",
    "except:\n",
    "    activities, billing, companies, people = (\n",
    "        pd.read_csv('activities.csv', index_col=0),\n",
    "        pd.read_csv('billing.csv', index_col=0),\n",
    "        pd.read_csv('companies.csv', index_col=0),\n",
    "        pd.read_csv('people.csv', index_col=0)\n",
    "    )"
   ]
  },
  {
   "cell_type": "markdown",
   "metadata": {},
   "source": [
    "Подготовим функцию для вывода информации о датафрейме."
   ]
  },
  {
   "cell_type": "code",
   "execution_count": 5,
   "metadata": {},
   "outputs": [],
   "source": [
    "def get_info(df):\n",
    "    \"\"\"\n",
    "    Функция для вывода информации о датафрейме\n",
    "    \n",
    "    Args:\n",
    "        df: датафрейм \n",
    "        \n",
    "    Returns:\n",
    "        print(информация о датафрейме)\n",
    "        display(первые 5 строк датафрейма).\n",
    "    \"\"\"\n",
    "\n",
    "    print(df.info())\n",
    "    display(df.head())"
   ]
  },
  {
   "cell_type": "markdown",
   "metadata": {},
   "source": [
    "Посмотрим информацию о датафреймах."
   ]
  },
  {
   "cell_type": "code",
   "execution_count": 6,
   "metadata": {},
   "outputs": [
    {
     "name": "stdout",
     "output_type": "stream",
     "text": [
      "<class 'pandas.core.frame.DataFrame'>\n",
      "Index: 6316 entries, 0 to 6556\n",
      "Data columns (total 8 columns):\n",
      " #   Column                         Non-Null Count  Dtype  \n",
      "---  ------                         --------------  -----  \n",
      " 0   company_id                     6316 non-null   int64  \n",
      " 1   month                          6316 non-null   object \n",
      " 2   company-month-billing          6316 non-null   float64\n",
      " 3   company-month-stocks           6316 non-null   float64\n",
      " 4   company-month-backups          6316 non-null   float64\n",
      " 5   company-month-projects         6316 non-null   float64\n",
      " 6   company-month-contractors      6316 non-null   float64\n",
      " 7   company-month-resource_orders  6316 non-null   float64\n",
      "dtypes: float64(6), int64(1), object(1)\n",
      "memory usage: 444.1+ KB\n",
      "None\n"
     ]
    },
    {
     "data": {
      "text/html": [
       "<div>\n",
       "<style scoped>\n",
       "    .dataframe tbody tr th:only-of-type {\n",
       "        vertical-align: middle;\n",
       "    }\n",
       "\n",
       "    .dataframe tbody tr th {\n",
       "        vertical-align: top;\n",
       "    }\n",
       "\n",
       "    .dataframe thead th {\n",
       "        text-align: right;\n",
       "    }\n",
       "</style>\n",
       "<table border=\"1\" class=\"dataframe\">\n",
       "  <thead>\n",
       "    <tr style=\"text-align: right;\">\n",
       "      <th></th>\n",
       "      <th>company_id</th>\n",
       "      <th>month</th>\n",
       "      <th>company-month-billing</th>\n",
       "      <th>company-month-stocks</th>\n",
       "      <th>company-month-backups</th>\n",
       "      <th>company-month-projects</th>\n",
       "      <th>company-month-contractors</th>\n",
       "      <th>company-month-resource_orders</th>\n",
       "    </tr>\n",
       "  </thead>\n",
       "  <tbody>\n",
       "    <tr>\n",
       "      <th>0</th>\n",
       "      <td>1</td>\n",
       "      <td>2019-09-01 00:00:00+00:00</td>\n",
       "      <td>1.0</td>\n",
       "      <td>0.0</td>\n",
       "      <td>0.0</td>\n",
       "      <td>7.0</td>\n",
       "      <td>0.0</td>\n",
       "      <td>0.0</td>\n",
       "    </tr>\n",
       "    <tr>\n",
       "      <th>1</th>\n",
       "      <td>1</td>\n",
       "      <td>2019-12-01 00:00:00+00:00</td>\n",
       "      <td>1.0</td>\n",
       "      <td>0.0</td>\n",
       "      <td>0.0</td>\n",
       "      <td>2.0</td>\n",
       "      <td>1.0</td>\n",
       "      <td>0.0</td>\n",
       "    </tr>\n",
       "    <tr>\n",
       "      <th>2</th>\n",
       "      <td>1</td>\n",
       "      <td>2020-04-01 00:00:00+00:00</td>\n",
       "      <td>4.0</td>\n",
       "      <td>1.0</td>\n",
       "      <td>0.0</td>\n",
       "      <td>1.0</td>\n",
       "      <td>6.0</td>\n",
       "      <td>0.0</td>\n",
       "    </tr>\n",
       "    <tr>\n",
       "      <th>3</th>\n",
       "      <td>1</td>\n",
       "      <td>2020-07-01 00:00:00+00:00</td>\n",
       "      <td>1.0</td>\n",
       "      <td>7.0</td>\n",
       "      <td>3.0</td>\n",
       "      <td>5.0</td>\n",
       "      <td>0.0</td>\n",
       "      <td>0.0</td>\n",
       "    </tr>\n",
       "    <tr>\n",
       "      <th>4</th>\n",
       "      <td>21</td>\n",
       "      <td>2020-01-01 00:00:00+00:00</td>\n",
       "      <td>3.0</td>\n",
       "      <td>0.0</td>\n",
       "      <td>0.0</td>\n",
       "      <td>1.0</td>\n",
       "      <td>0.0</td>\n",
       "      <td>0.0</td>\n",
       "    </tr>\n",
       "  </tbody>\n",
       "</table>\n",
       "</div>"
      ],
      "text/plain": [
       "   company_id                      month  company-month-billing  \\\n",
       "0           1  2019-09-01 00:00:00+00:00                    1.0   \n",
       "1           1  2019-12-01 00:00:00+00:00                    1.0   \n",
       "2           1  2020-04-01 00:00:00+00:00                    4.0   \n",
       "3           1  2020-07-01 00:00:00+00:00                    1.0   \n",
       "4          21  2020-01-01 00:00:00+00:00                    3.0   \n",
       "\n",
       "   company-month-stocks  company-month-backups  company-month-projects  \\\n",
       "0                   0.0                    0.0                     7.0   \n",
       "1                   0.0                    0.0                     2.0   \n",
       "2                   1.0                    0.0                     1.0   \n",
       "3                   7.0                    3.0                     5.0   \n",
       "4                   0.0                    0.0                     1.0   \n",
       "\n",
       "   company-month-contractors  company-month-resource_orders  \n",
       "0                        0.0                            0.0  \n",
       "1                        1.0                            0.0  \n",
       "2                        6.0                            0.0  \n",
       "3                        0.0                            0.0  \n",
       "4                        0.0                            0.0  "
      ]
     },
     "metadata": {},
     "output_type": "display_data"
    }
   ],
   "source": [
    "get_info(activities)"
   ]
  },
  {
   "cell_type": "markdown",
   "metadata": {},
   "source": [
    "В нашем распоряжении **activities** датафрейм из 8 колонок и 6316 строк.\n",
    "- `company_id` -  Идентификатор компании\n",
    "- `month` -  Отчетный месяц\n",
    "- `company-month-billing` -  Количество счетов, выставленных в приложении, компанией за месяц\n",
    "- `company-month-stocks` -  Месячное количество складов (аренда, заказы и т.д.), используемых компанией\n",
    "- `company-month-backups` -  Месячное количество бэкапов компании\n",
    "- `company-month-projects` -  Месячное количество проектов компании\n",
    "- `company-month-contractors` -  Месячное количество контрагентов компании\n",
    "- `company-month-resource_orders` -  Месячное количество заказов материалов компании"
   ]
  },
  {
   "cell_type": "code",
   "execution_count": 7,
   "metadata": {},
   "outputs": [
    {
     "name": "stdout",
     "output_type": "stream",
     "text": [
      "<class 'pandas.core.frame.DataFrame'>\n",
      "Index: 3480 entries, 4 to 18953\n",
      "Data columns (total 12 columns):\n",
      " #   Column                   Non-Null Count  Dtype  \n",
      "---  ------                   --------------  -----  \n",
      " 0   Unnamed: 0               3480 non-null   int64  \n",
      " 1   id                       3480 non-null   int64  \n",
      " 2   user_id                  3480 non-null   int64  \n",
      " 3   company_id               3480 non-null   int64  \n",
      " 4   billing_tariff_id        3480 non-null   int64  \n",
      " 5   payed_until              3480 non-null   int64  \n",
      " 6   is_payed                 3480 non-null   bool   \n",
      " 7   created_at               3480 non-null   int64  \n",
      " 8   updated_at               3480 non-null   int64  \n",
      " 9   billing_tariff_price_id  3480 non-null   float64\n",
      " 10  comment                  745 non-null    object \n",
      " 11  pay_date                 1108 non-null   float64\n",
      "dtypes: bool(1), float64(2), int64(8), object(1)\n",
      "memory usage: 329.6+ KB\n",
      "None\n"
     ]
    },
    {
     "data": {
      "text/html": [
       "<div>\n",
       "<style scoped>\n",
       "    .dataframe tbody tr th:only-of-type {\n",
       "        vertical-align: middle;\n",
       "    }\n",
       "\n",
       "    .dataframe tbody tr th {\n",
       "        vertical-align: top;\n",
       "    }\n",
       "\n",
       "    .dataframe thead th {\n",
       "        text-align: right;\n",
       "    }\n",
       "</style>\n",
       "<table border=\"1\" class=\"dataframe\">\n",
       "  <thead>\n",
       "    <tr style=\"text-align: right;\">\n",
       "      <th></th>\n",
       "      <th>Unnamed: 0</th>\n",
       "      <th>id</th>\n",
       "      <th>user_id</th>\n",
       "      <th>company_id</th>\n",
       "      <th>billing_tariff_id</th>\n",
       "      <th>payed_until</th>\n",
       "      <th>is_payed</th>\n",
       "      <th>created_at</th>\n",
       "      <th>updated_at</th>\n",
       "      <th>billing_tariff_price_id</th>\n",
       "      <th>comment</th>\n",
       "      <th>pay_date</th>\n",
       "    </tr>\n",
       "  </thead>\n",
       "  <tbody>\n",
       "    <tr>\n",
       "      <th>4</th>\n",
       "      <td>4</td>\n",
       "      <td>3050</td>\n",
       "      <td>567</td>\n",
       "      <td>512</td>\n",
       "      <td>3</td>\n",
       "      <td>1640153302</td>\n",
       "      <td>False</td>\n",
       "      <td>1608617302</td>\n",
       "      <td>1608617302</td>\n",
       "      <td>12.0</td>\n",
       "      <td>NaN</td>\n",
       "      <td>NaN</td>\n",
       "    </tr>\n",
       "    <tr>\n",
       "      <th>6</th>\n",
       "      <td>6</td>\n",
       "      <td>3051</td>\n",
       "      <td>2861</td>\n",
       "      <td>2474</td>\n",
       "      <td>7</td>\n",
       "      <td>1640131200</td>\n",
       "      <td>True</td>\n",
       "      <td>1608626162</td>\n",
       "      <td>1608626181</td>\n",
       "      <td>23.0</td>\n",
       "      <td>NaN</td>\n",
       "      <td>1.608626e+09</td>\n",
       "    </tr>\n",
       "    <tr>\n",
       "      <th>16</th>\n",
       "      <td>16</td>\n",
       "      <td>3059</td>\n",
       "      <td>1902</td>\n",
       "      <td>1645</td>\n",
       "      <td>2</td>\n",
       "      <td>1616577484</td>\n",
       "      <td>False</td>\n",
       "      <td>1608801484</td>\n",
       "      <td>1608801484</td>\n",
       "      <td>6.0</td>\n",
       "      <td>NaN</td>\n",
       "      <td>NaN</td>\n",
       "    </tr>\n",
       "    <tr>\n",
       "      <th>18</th>\n",
       "      <td>18</td>\n",
       "      <td>3065</td>\n",
       "      <td>2352</td>\n",
       "      <td>2035</td>\n",
       "      <td>7</td>\n",
       "      <td>1643500799</td>\n",
       "      <td>False</td>\n",
       "      <td>1608883175</td>\n",
       "      <td>1608883175</td>\n",
       "      <td>23.0</td>\n",
       "      <td>NaN</td>\n",
       "      <td>NaN</td>\n",
       "    </tr>\n",
       "    <tr>\n",
       "      <th>24</th>\n",
       "      <td>24</td>\n",
       "      <td>3062</td>\n",
       "      <td>1074</td>\n",
       "      <td>926</td>\n",
       "      <td>3</td>\n",
       "      <td>1611964800</td>\n",
       "      <td>True</td>\n",
       "      <td>1608814072</td>\n",
       "      <td>1608899674</td>\n",
       "      <td>9.0</td>\n",
       "      <td>NaN</td>\n",
       "      <td>1.609200e+09</td>\n",
       "    </tr>\n",
       "  </tbody>\n",
       "</table>\n",
       "</div>"
      ],
      "text/plain": [
       "    Unnamed: 0    id  user_id  company_id  billing_tariff_id  payed_until  \\\n",
       "4            4  3050      567         512                  3   1640153302   \n",
       "6            6  3051     2861        2474                  7   1640131200   \n",
       "16          16  3059     1902        1645                  2   1616577484   \n",
       "18          18  3065     2352        2035                  7   1643500799   \n",
       "24          24  3062     1074         926                  3   1611964800   \n",
       "\n",
       "    is_payed  created_at  updated_at  billing_tariff_price_id comment  \\\n",
       "4      False  1608617302  1608617302                     12.0     NaN   \n",
       "6       True  1608626162  1608626181                     23.0     NaN   \n",
       "16     False  1608801484  1608801484                      6.0     NaN   \n",
       "18     False  1608883175  1608883175                     23.0     NaN   \n",
       "24      True  1608814072  1608899674                      9.0     NaN   \n",
       "\n",
       "        pay_date  \n",
       "4            NaN  \n",
       "6   1.608626e+09  \n",
       "16           NaN  \n",
       "18           NaN  \n",
       "24  1.609200e+09  "
      ]
     },
     "metadata": {},
     "output_type": "display_data"
    }
   ],
   "source": [
    "get_info(billing)"
   ]
  },
  {
   "cell_type": "markdown",
   "metadata": {},
   "source": [
    "В нашем распоряжении **billing** датафрейм из 12 колонок и 3480 строк.\n",
    "- `Unnamed:0` - Старый индекс\n",
    "- `id` - Неизвестная колонка\n",
    "- `user_id` - Идентификатор пользователя\n",
    "- `company_id` - Идентификатор компании пользователя\n",
    "- `billing_tariff_id` - Тарифный план\n",
    "- `payed_until` - Дата, до которой подписка компании действует\n",
    "- `is_payed` - Статус оплаты\n",
    "- `created_at` - Дата создания\n",
    "- `updated_at` - Дата обновления\n",
    "- `billing_tariff_price_id` - id стоимости тарифа\n",
    "- `comment` - Комментарии\n",
    "- `pay_date` - Дата платежа"
   ]
  },
  {
   "cell_type": "code",
   "execution_count": 8,
   "metadata": {},
   "outputs": [
    {
     "name": "stdout",
     "output_type": "stream",
     "text": [
      "<class 'pandas.core.frame.DataFrame'>\n",
      "Index: 723 entries, 19 to 17972\n",
      "Data columns (total 7 columns):\n",
      " #   Column                   Non-Null Count  Dtype  \n",
      "---  ------                   --------------  -----  \n",
      " 0   id                       723 non-null    int64  \n",
      " 1   working_direction        720 non-null    object \n",
      " 2   employer_count_interval  723 non-null    float64\n",
      " 3   created_at               723 non-null    int64  \n",
      " 4   updated_at               723 non-null    int64  \n",
      " 5   billing_tariff_id        716 non-null    float64\n",
      " 6   billing_is_over          723 non-null    bool   \n",
      "dtypes: bool(1), float64(2), int64(3), object(1)\n",
      "memory usage: 40.2+ KB\n",
      "None\n"
     ]
    },
    {
     "data": {
      "text/html": [
       "<div>\n",
       "<style scoped>\n",
       "    .dataframe tbody tr th:only-of-type {\n",
       "        vertical-align: middle;\n",
       "    }\n",
       "\n",
       "    .dataframe tbody tr th {\n",
       "        vertical-align: top;\n",
       "    }\n",
       "\n",
       "    .dataframe thead th {\n",
       "        text-align: right;\n",
       "    }\n",
       "</style>\n",
       "<table border=\"1\" class=\"dataframe\">\n",
       "  <thead>\n",
       "    <tr style=\"text-align: right;\">\n",
       "      <th></th>\n",
       "      <th>id</th>\n",
       "      <th>working_direction</th>\n",
       "      <th>employer_count_interval</th>\n",
       "      <th>created_at</th>\n",
       "      <th>updated_at</th>\n",
       "      <th>billing_tariff_id</th>\n",
       "      <th>billing_is_over</th>\n",
       "    </tr>\n",
       "  </thead>\n",
       "  <tbody>\n",
       "    <tr>\n",
       "      <th>19</th>\n",
       "      <td>514</td>\n",
       "      <td>-</td>\n",
       "      <td>1.0</td>\n",
       "      <td>1571316635</td>\n",
       "      <td>1670298314</td>\n",
       "      <td>4.0</td>\n",
       "      <td>True</td>\n",
       "    </tr>\n",
       "    <tr>\n",
       "      <th>57</th>\n",
       "      <td>383</td>\n",
       "      <td>Строительство</td>\n",
       "      <td>2.0</td>\n",
       "      <td>1564142565</td>\n",
       "      <td>1676550050</td>\n",
       "      <td>7.0</td>\n",
       "      <td>False</td>\n",
       "    </tr>\n",
       "    <tr>\n",
       "      <th>69</th>\n",
       "      <td>495</td>\n",
       "      <td>-</td>\n",
       "      <td>1.0</td>\n",
       "      <td>1570535695</td>\n",
       "      <td>1598281714</td>\n",
       "      <td>2.0</td>\n",
       "      <td>False</td>\n",
       "    </tr>\n",
       "    <tr>\n",
       "      <th>75</th>\n",
       "      <td>724</td>\n",
       "      <td>-</td>\n",
       "      <td>1.0</td>\n",
       "      <td>1579514393</td>\n",
       "      <td>1670298294</td>\n",
       "      <td>4.0</td>\n",
       "      <td>True</td>\n",
       "    </tr>\n",
       "    <tr>\n",
       "      <th>99</th>\n",
       "      <td>471</td>\n",
       "      <td>-</td>\n",
       "      <td>1.0</td>\n",
       "      <td>1569328017</td>\n",
       "      <td>1670298360</td>\n",
       "      <td>7.0</td>\n",
       "      <td>True</td>\n",
       "    </tr>\n",
       "  </tbody>\n",
       "</table>\n",
       "</div>"
      ],
      "text/plain": [
       "     id working_direction  employer_count_interval  created_at  updated_at  \\\n",
       "19  514                 -                      1.0  1571316635  1670298314   \n",
       "57  383     Строительство                      2.0  1564142565  1676550050   \n",
       "69  495                 -                      1.0  1570535695  1598281714   \n",
       "75  724                 -                      1.0  1579514393  1670298294   \n",
       "99  471                 -                      1.0  1569328017  1670298360   \n",
       "\n",
       "    billing_tariff_id  billing_is_over  \n",
       "19                4.0             True  \n",
       "57                7.0            False  \n",
       "69                2.0            False  \n",
       "75                4.0             True  \n",
       "99                7.0             True  "
      ]
     },
     "metadata": {},
     "output_type": "display_data"
    }
   ],
   "source": [
    "get_info(companies)"
   ]
  },
  {
   "cell_type": "markdown",
   "metadata": {},
   "source": [
    "В нашем распоряжении **companies** датафрейм из 7 колонок и 723 строк.\n",
    "- `id` - id компании\n",
    "- `working_direction` - сфера деятельности\n",
    "- `employer_count_interval` - id количества сотрудников\n",
    "- `created_at` - дата создания компании в системе\n",
    "- `updated_at` - дата обновления информации о компании\n",
    "- `billing_tariff_id` - id тарифа \n",
    "- `billing_is_over` - истекла ли оплата\n",
    "\n"
   ]
  },
  {
   "cell_type": "code",
   "execution_count": 9,
   "metadata": {},
   "outputs": [
    {
     "name": "stdout",
     "output_type": "stream",
     "text": [
      "<class 'pandas.core.frame.DataFrame'>\n",
      "Index: 5095 entries, 2 to 17054\n",
      "Data columns (total 8 columns):\n",
      " #   Column      Non-Null Count  Dtype  \n",
      "---  ------      --------------  -----  \n",
      " 0   id          5095 non-null   int64  \n",
      " 1   company_id  5095 non-null   int64  \n",
      " 2   user_id     3813 non-null   float64\n",
      " 3   role_id     5095 non-null   int64  \n",
      " 4   created_at  5095 non-null   int64  \n",
      " 5   updated_at  5095 non-null   int64  \n",
      " 6   is_deleted  5095 non-null   bool   \n",
      " 7   deleted_at  2180 non-null   float64\n",
      "dtypes: bool(1), float64(2), int64(5)\n",
      "memory usage: 323.4 KB\n",
      "None\n"
     ]
    },
    {
     "data": {
      "text/html": [
       "<div>\n",
       "<style scoped>\n",
       "    .dataframe tbody tr th:only-of-type {\n",
       "        vertical-align: middle;\n",
       "    }\n",
       "\n",
       "    .dataframe tbody tr th {\n",
       "        vertical-align: top;\n",
       "    }\n",
       "\n",
       "    .dataframe thead th {\n",
       "        text-align: right;\n",
       "    }\n",
       "</style>\n",
       "<table border=\"1\" class=\"dataframe\">\n",
       "  <thead>\n",
       "    <tr style=\"text-align: right;\">\n",
       "      <th></th>\n",
       "      <th>id</th>\n",
       "      <th>company_id</th>\n",
       "      <th>user_id</th>\n",
       "      <th>role_id</th>\n",
       "      <th>created_at</th>\n",
       "      <th>updated_at</th>\n",
       "      <th>is_deleted</th>\n",
       "      <th>deleted_at</th>\n",
       "    </tr>\n",
       "  </thead>\n",
       "  <tbody>\n",
       "    <tr>\n",
       "      <th>2</th>\n",
       "      <td>6601</td>\n",
       "      <td>495</td>\n",
       "      <td>NaN</td>\n",
       "      <td>7133</td>\n",
       "      <td>1570535962</td>\n",
       "      <td>1570535962</td>\n",
       "      <td>True</td>\n",
       "      <td>1.594067e+09</td>\n",
       "    </tr>\n",
       "    <tr>\n",
       "      <th>6</th>\n",
       "      <td>7025</td>\n",
       "      <td>1</td>\n",
       "      <td>NaN</td>\n",
       "      <td>1</td>\n",
       "      <td>1594120484</td>\n",
       "      <td>1594120484</td>\n",
       "      <td>True</td>\n",
       "      <td>1.594120e+09</td>\n",
       "    </tr>\n",
       "    <tr>\n",
       "      <th>7</th>\n",
       "      <td>7165</td>\n",
       "      <td>1255</td>\n",
       "      <td>1734.0</td>\n",
       "      <td>18085</td>\n",
       "      <td>1595438102</td>\n",
       "      <td>1595439391</td>\n",
       "      <td>True</td>\n",
       "      <td>1.633960e+09</td>\n",
       "    </tr>\n",
       "    <tr>\n",
       "      <th>10</th>\n",
       "      <td>7130</td>\n",
       "      <td>1470</td>\n",
       "      <td>1703.0</td>\n",
       "      <td>1</td>\n",
       "      <td>1595234824</td>\n",
       "      <td>1595234824</td>\n",
       "      <td>False</td>\n",
       "      <td>NaN</td>\n",
       "    </tr>\n",
       "    <tr>\n",
       "      <th>17</th>\n",
       "      <td>7163</td>\n",
       "      <td>1492</td>\n",
       "      <td>1731.0</td>\n",
       "      <td>1</td>\n",
       "      <td>1595429211</td>\n",
       "      <td>1598540644</td>\n",
       "      <td>True</td>\n",
       "      <td>1.620195e+09</td>\n",
       "    </tr>\n",
       "  </tbody>\n",
       "</table>\n",
       "</div>"
      ],
      "text/plain": [
       "      id  company_id  user_id  role_id  created_at  updated_at  is_deleted  \\\n",
       "2   6601         495      NaN     7133  1570535962  1570535962        True   \n",
       "6   7025           1      NaN        1  1594120484  1594120484        True   \n",
       "7   7165        1255   1734.0    18085  1595438102  1595439391        True   \n",
       "10  7130        1470   1703.0        1  1595234824  1595234824       False   \n",
       "17  7163        1492   1731.0        1  1595429211  1598540644        True   \n",
       "\n",
       "      deleted_at  \n",
       "2   1.594067e+09  \n",
       "6   1.594120e+09  \n",
       "7   1.633960e+09  \n",
       "10           NaN  \n",
       "17  1.620195e+09  "
      ]
     },
     "metadata": {},
     "output_type": "display_data"
    }
   ],
   "source": [
    "get_info(people)"
   ]
  },
  {
   "cell_type": "markdown",
   "metadata": {},
   "source": [
    "В нашем распоряжении **people** датафрейм из 8 колонок и 5095 строк.\n",
    " - `id`- индекс\n",
    " - `company_id`- id компании\n",
    " - `user_id`- id пользователя\n",
    " - `role_id`- id роли (должности)\n",
    " - `created_at`- дата создания пользователя\n",
    " - `updated_at`- дата обновления информации о пользователе\n",
    " - `is_deleted`- удален ли пользователь\n",
    " - `deleted_at`- дата удаления"
   ]
  },
  {
   "cell_type": "markdown",
   "metadata": {},
   "source": [
    "Сохраним информацию о размерах датафреймов."
   ]
  },
  {
   "cell_type": "code",
   "execution_count": 10,
   "metadata": {},
   "outputs": [],
   "source": [
    "activities_start_shape = activities.shape\n",
    "billing_start_shape = billing.shape\n",
    "companies_start_shape = companies.shape\n",
    "people_start_shape = people.shape"
   ]
  },
  {
   "cell_type": "markdown",
   "metadata": {},
   "source": [
    "### Предобработка данных"
   ]
  },
  {
   "cell_type": "markdown",
   "metadata": {},
   "source": [
    "#### Переименование столбцов"
   ]
  },
  {
   "cell_type": "markdown",
   "metadata": {},
   "source": [
    "Приведем название столбцов в датафрейме **activities** к \"змеиному регистру\"."
   ]
  },
  {
   "cell_type": "code",
   "execution_count": 11,
   "metadata": {},
   "outputs": [
    {
     "name": "stdout",
     "output_type": "stream",
     "text": [
      "Index(['company_id', 'month', 'company_month_billing', 'company_month_stocks',\n",
      "       'company_month_backups', 'company_month_projects',\n",
      "       'company_month_contractors', 'company_month_resource_orders'],\n",
      "      dtype='object')\n"
     ]
    }
   ],
   "source": [
    "activities.columns = [re.sub('-', '_',  i) for i in activities.columns]\n",
    "print(activities.columns)"
   ]
  },
  {
   "cell_type": "markdown",
   "metadata": {},
   "source": [
    "Переименование прошло успешно."
   ]
  },
  {
   "cell_type": "markdown",
   "metadata": {},
   "source": [
    "#### Удаление столбцов"
   ]
  },
  {
   "cell_type": "markdown",
   "metadata": {},
   "source": [
    "Удалим столбец `Unnamed: 0` в датафрейме **billing**, т.к. он появился при формировании csv файла и содержит старые индексты."
   ]
  },
  {
   "cell_type": "code",
   "execution_count": 12,
   "metadata": {},
   "outputs": [
    {
     "name": "stdout",
     "output_type": "stream",
     "text": [
      "Index(['id', 'user_id', 'company_id', 'billing_tariff_id', 'payed_until',\n",
      "       'is_payed', 'created_at', 'updated_at', 'billing_tariff_price_id',\n",
      "       'comment', 'pay_date'],\n",
      "      dtype='object')\n"
     ]
    }
   ],
   "source": [
    "billing = billing.drop(columns=['Unnamed: 0'])\n",
    "print(billing.columns)"
   ]
  },
  {
   "cell_type": "markdown",
   "metadata": {},
   "source": [
    "Удаление прошло успешно."
   ]
  },
  {
   "cell_type": "markdown",
   "metadata": {},
   "source": [
    "#### Проверка на пропуски"
   ]
  },
  {
   "cell_type": "markdown",
   "metadata": {},
   "source": [
    "Проверим датафреймы на пропуски."
   ]
  },
  {
   "cell_type": "code",
   "execution_count": 13,
   "metadata": {},
   "outputs": [
    {
     "name": "stdout",
     "output_type": "stream",
     "text": [
      "Пропусков в датафреме activities\n",
      "company_id                       0\n",
      "month                            0\n",
      "company_month_billing            0\n",
      "company_month_stocks             0\n",
      "company_month_backups            0\n",
      "company_month_projects           0\n",
      "company_month_contractors        0\n",
      "company_month_resource_orders    0\n",
      "dtype: int64\n",
      "\n",
      "Пропусков в датафреме billing\n",
      "id                            0\n",
      "user_id                       0\n",
      "company_id                    0\n",
      "billing_tariff_id             0\n",
      "payed_until                   0\n",
      "is_payed                      0\n",
      "created_at                    0\n",
      "updated_at                    0\n",
      "billing_tariff_price_id       0\n",
      "comment                    2735\n",
      "pay_date                   2372\n",
      "dtype: int64\n",
      "\n",
      "Пропусков в датафреме companies\n",
      "id                         0\n",
      "working_direction          3\n",
      "employer_count_interval    0\n",
      "created_at                 0\n",
      "updated_at                 0\n",
      "billing_tariff_id          7\n",
      "billing_is_over            0\n",
      "dtype: int64\n",
      "\n",
      "Пропусков в датафреме people\n",
      "id               0\n",
      "company_id       0\n",
      "user_id       1282\n",
      "role_id          0\n",
      "created_at       0\n",
      "updated_at       0\n",
      "is_deleted       0\n",
      "deleted_at    2915\n",
      "dtype: int64\n",
      "\n"
     ]
    }
   ],
   "source": [
    "activities.name = 'activities'\n",
    "billing.name = 'billing'\n",
    "companies.name = 'companies'\n",
    "people.name = 'people'\n",
    "\n",
    "for i in (activities, billing, companies, people):\n",
    "    print(f'Пропусков в датафреме {i.name}')\n",
    "    print(i.isna().sum())\n",
    "    print()"
   ]
  },
  {
   "cell_type": "markdown",
   "metadata": {},
   "source": [
    "В датафрейме **activities** нет пропусков.  \n",
    "В датафрейме **billing** есть пропуски в колонках `comment` и `pay_date`, что логично, т.к. не ко всем счетам есть комментарии и не все счета оплачены.  \n",
    "В датафрейме **companies** есть пропуски в колонках `working_direction` и `billing_tariff_id`, возможно, ответственный менеджер не внес информацию о свере дейстельности компании, а также, возможно, есть компании, которые не имеют подписок. Проверим это позже.  \n",
    "В датафрейме **people** есть пропуски в колонце `user_id`, что странно, возможно, перепутаны колонки, и на самом деле id пользхователей находится в колонке `id`, посмотрим на это подробнее позже, а также есть пропуски в колонке `deleted_at`, что тоже логично, т.к. не все сотрудники удалены."
   ]
  },
  {
   "cell_type": "markdown",
   "metadata": {},
   "source": [
    "Посмотрим подробнее на датафрейм **companies**, а именно на строки с пропусками в колонке `billing_tariff_id`."
   ]
  },
  {
   "cell_type": "code",
   "execution_count": 14,
   "metadata": {},
   "outputs": [
    {
     "data": {
      "text/html": [
       "<div>\n",
       "<style scoped>\n",
       "    .dataframe tbody tr th:only-of-type {\n",
       "        vertical-align: middle;\n",
       "    }\n",
       "\n",
       "    .dataframe tbody tr th {\n",
       "        vertical-align: top;\n",
       "    }\n",
       "\n",
       "    .dataframe thead th {\n",
       "        text-align: right;\n",
       "    }\n",
       "</style>\n",
       "<table border=\"1\" class=\"dataframe\">\n",
       "  <thead>\n",
       "    <tr style=\"text-align: right;\">\n",
       "      <th></th>\n",
       "      <th>id</th>\n",
       "      <th>working_direction</th>\n",
       "      <th>employer_count_interval</th>\n",
       "      <th>created_at</th>\n",
       "      <th>updated_at</th>\n",
       "      <th>billing_tariff_id</th>\n",
       "      <th>billing_is_over</th>\n",
       "    </tr>\n",
       "  </thead>\n",
       "  <tbody>\n",
       "    <tr>\n",
       "      <th>1311</th>\n",
       "      <td>1394</td>\n",
       "      <td>ремонты</td>\n",
       "      <td>2.0</td>\n",
       "      <td>1594046967</td>\n",
       "      <td>1594046967</td>\n",
       "      <td>NaN</td>\n",
       "      <td>False</td>\n",
       "    </tr>\n",
       "    <tr>\n",
       "      <th>2207</th>\n",
       "      <td>2366</td>\n",
       "      <td>-</td>\n",
       "      <td>1.0</td>\n",
       "      <td>1605598351</td>\n",
       "      <td>1605598351</td>\n",
       "      <td>NaN</td>\n",
       "      <td>False</td>\n",
       "    </tr>\n",
       "    <tr>\n",
       "      <th>8311</th>\n",
       "      <td>7478</td>\n",
       "      <td>-</td>\n",
       "      <td>1.0</td>\n",
       "      <td>1678133266</td>\n",
       "      <td>1678133266</td>\n",
       "      <td>NaN</td>\n",
       "      <td>False</td>\n",
       "    </tr>\n",
       "    <tr>\n",
       "      <th>8313</th>\n",
       "      <td>7479</td>\n",
       "      <td>-</td>\n",
       "      <td>1.0</td>\n",
       "      <td>1678174074</td>\n",
       "      <td>1678174074</td>\n",
       "      <td>NaN</td>\n",
       "      <td>False</td>\n",
       "    </tr>\n",
       "    <tr>\n",
       "      <th>8315</th>\n",
       "      <td>7480</td>\n",
       "      <td>-</td>\n",
       "      <td>1.0</td>\n",
       "      <td>1678174873</td>\n",
       "      <td>1678174873</td>\n",
       "      <td>NaN</td>\n",
       "      <td>False</td>\n",
       "    </tr>\n",
       "    <tr>\n",
       "      <th>8317</th>\n",
       "      <td>7481</td>\n",
       "      <td>-</td>\n",
       "      <td>1.0</td>\n",
       "      <td>1678175908</td>\n",
       "      <td>1678175908</td>\n",
       "      <td>NaN</td>\n",
       "      <td>False</td>\n",
       "    </tr>\n",
       "    <tr>\n",
       "      <th>8885</th>\n",
       "      <td>7944</td>\n",
       "      <td>-</td>\n",
       "      <td>1.0</td>\n",
       "      <td>1684149633</td>\n",
       "      <td>1684149633</td>\n",
       "      <td>NaN</td>\n",
       "      <td>False</td>\n",
       "    </tr>\n",
       "  </tbody>\n",
       "</table>\n",
       "</div>"
      ],
      "text/plain": [
       "        id working_direction  employer_count_interval  created_at  updated_at  \\\n",
       "1311  1394           ремонты                      2.0  1594046967  1594046967   \n",
       "2207  2366                 -                      1.0  1605598351  1605598351   \n",
       "8311  7478                 -                      1.0  1678133266  1678133266   \n",
       "8313  7479                 -                      1.0  1678174074  1678174074   \n",
       "8315  7480                 -                      1.0  1678174873  1678174873   \n",
       "8317  7481                 -                      1.0  1678175908  1678175908   \n",
       "8885  7944                 -                      1.0  1684149633  1684149633   \n",
       "\n",
       "      billing_tariff_id  billing_is_over  \n",
       "1311                NaN            False  \n",
       "2207                NaN            False  \n",
       "8311                NaN            False  \n",
       "8313                NaN            False  \n",
       "8315                NaN            False  \n",
       "8317                NaN            False  \n",
       "8885                NaN            False  "
      ]
     },
     "metadata": {},
     "output_type": "display_data"
    }
   ],
   "source": [
    "display(companies[companies['billing_tariff_id'].isna()])"
   ]
  },
  {
   "cell_type": "markdown",
   "metadata": {},
   "source": [
    "Мы видим, что пропуски в id тарифа у комапаний, у которых есть действующие подписки, без тарифов  информация об этих компаниях нам не поможет в анализе, удалим их.  \n",
    "При этом, мы видим, что в сфере деятельности могут быть просто прочерки, посмотрим на строки с пропусками в этой колонке, и если не будет дополнительных замечаний, заменим их на тире. "
   ]
  },
  {
   "cell_type": "code",
   "execution_count": 15,
   "metadata": {},
   "outputs": [
    {
     "data": {
      "text/html": [
       "<div>\n",
       "<style scoped>\n",
       "    .dataframe tbody tr th:only-of-type {\n",
       "        vertical-align: middle;\n",
       "    }\n",
       "\n",
       "    .dataframe tbody tr th {\n",
       "        vertical-align: top;\n",
       "    }\n",
       "\n",
       "    .dataframe thead th {\n",
       "        text-align: right;\n",
       "    }\n",
       "</style>\n",
       "<table border=\"1\" class=\"dataframe\">\n",
       "  <thead>\n",
       "    <tr style=\"text-align: right;\">\n",
       "      <th></th>\n",
       "      <th>id</th>\n",
       "      <th>working_direction</th>\n",
       "      <th>employer_count_interval</th>\n",
       "      <th>created_at</th>\n",
       "      <th>updated_at</th>\n",
       "      <th>billing_tariff_id</th>\n",
       "      <th>billing_is_over</th>\n",
       "    </tr>\n",
       "  </thead>\n",
       "  <tbody>\n",
       "    <tr>\n",
       "      <th>2630</th>\n",
       "      <td>8364</td>\n",
       "      <td>NaN</td>\n",
       "      <td>2.0</td>\n",
       "      <td>1689327108</td>\n",
       "      <td>1692179928</td>\n",
       "      <td>2.0</td>\n",
       "      <td>False</td>\n",
       "    </tr>\n",
       "    <tr>\n",
       "      <th>6713</th>\n",
       "      <td>6927</td>\n",
       "      <td>NaN</td>\n",
       "      <td>1.0</td>\n",
       "      <td>1668598253</td>\n",
       "      <td>1709727143</td>\n",
       "      <td>17.0</td>\n",
       "      <td>False</td>\n",
       "    </tr>\n",
       "    <tr>\n",
       "      <th>8472</th>\n",
       "      <td>7527</td>\n",
       "      <td>NaN</td>\n",
       "      <td>2.0</td>\n",
       "      <td>1678794273</td>\n",
       "      <td>1686130137</td>\n",
       "      <td>9.0</td>\n",
       "      <td>False</td>\n",
       "    </tr>\n",
       "  </tbody>\n",
       "</table>\n",
       "</div>"
      ],
      "text/plain": [
       "        id working_direction  employer_count_interval  created_at  updated_at  \\\n",
       "2630  8364               NaN                      2.0  1689327108  1692179928   \n",
       "6713  6927               NaN                      1.0  1668598253  1709727143   \n",
       "8472  7527               NaN                      2.0  1678794273  1686130137   \n",
       "\n",
       "      billing_tariff_id  billing_is_over  \n",
       "2630                2.0            False  \n",
       "6713               17.0            False  \n",
       "8472                9.0            False  "
      ]
     },
     "metadata": {},
     "output_type": "display_data"
    }
   ],
   "source": [
    "display(companies[companies['working_direction'].isna()])"
   ]
  },
  {
   "cell_type": "markdown",
   "metadata": {},
   "source": [
    "Это действительно строки с пропускками только в одной строке, заполним их на тире."
   ]
  },
  {
   "cell_type": "code",
   "execution_count": 16,
   "metadata": {},
   "outputs": [
    {
     "name": "stdout",
     "output_type": "stream",
     "text": [
      "Пропусков в колонке working_direction -  0\n"
     ]
    }
   ],
   "source": [
    "companies['working_direction'] = companies['working_direction'].fillna('-')\n",
    "print('Пропусков в колонке working_direction - ',  len(companies[companies['working_direction'].isna()]))"
   ]
  },
  {
   "cell_type": "markdown",
   "metadata": {},
   "source": [
    "Теперь посмотрим, сколько данных мы потеряем, когда удалим строки с пропусками в колонке `billing_tariff_id`."
   ]
  },
  {
   "cell_type": "code",
   "execution_count": 17,
   "metadata": {},
   "outputs": [
    {
     "name": "stdout",
     "output_type": "stream",
     "text": [
      "Потери данных: 0.97%\n"
     ]
    }
   ],
   "source": [
    "clear_data = len(companies.dropna())\n",
    "\n",
    "print(f'Потери данных: {(len(companies) - clear_data) / len(companies):.2%}')"
   ]
  },
  {
   "cell_type": "markdown",
   "metadata": {},
   "source": [
    "Потери менее 1%, можем удалить эти строки."
   ]
  },
  {
   "cell_type": "code",
   "execution_count": 18,
   "metadata": {},
   "outputs": [
    {
     "name": "stdout",
     "output_type": "stream",
     "text": [
      "Строк с пропусками в датафрейме companies -  0\n"
     ]
    }
   ],
   "source": [
    "companies = companies.dropna()\n",
    "print('Строк с пропусками в датафрейме companies - ', companies.isna().sum().sum())"
   ]
  },
  {
   "cell_type": "markdown",
   "metadata": {},
   "source": [
    "Посмотрим подробнее на датафрейм **people**, а именно, в каком проценте строк пропуски."
   ]
  },
  {
   "cell_type": "code",
   "execution_count": 19,
   "metadata": {},
   "outputs": [
    {
     "data": {
      "text/html": [
       "<div>\n",
       "<style scoped>\n",
       "    .dataframe tbody tr th:only-of-type {\n",
       "        vertical-align: middle;\n",
       "    }\n",
       "\n",
       "    .dataframe tbody tr th {\n",
       "        vertical-align: top;\n",
       "    }\n",
       "\n",
       "    .dataframe thead th {\n",
       "        text-align: right;\n",
       "    }\n",
       "</style>\n",
       "<table border=\"1\" class=\"dataframe\">\n",
       "  <thead>\n",
       "    <tr style=\"text-align: right;\">\n",
       "      <th></th>\n",
       "      <th>0</th>\n",
       "    </tr>\n",
       "  </thead>\n",
       "  <tbody>\n",
       "    <tr>\n",
       "      <th>id</th>\n",
       "      <td>0.00</td>\n",
       "    </tr>\n",
       "    <tr>\n",
       "      <th>company_id</th>\n",
       "      <td>0.00</td>\n",
       "    </tr>\n",
       "    <tr>\n",
       "      <th>user_id</th>\n",
       "      <td>25.16</td>\n",
       "    </tr>\n",
       "    <tr>\n",
       "      <th>role_id</th>\n",
       "      <td>0.00</td>\n",
       "    </tr>\n",
       "    <tr>\n",
       "      <th>created_at</th>\n",
       "      <td>0.00</td>\n",
       "    </tr>\n",
       "    <tr>\n",
       "      <th>updated_at</th>\n",
       "      <td>0.00</td>\n",
       "    </tr>\n",
       "    <tr>\n",
       "      <th>is_deleted</th>\n",
       "      <td>0.00</td>\n",
       "    </tr>\n",
       "    <tr>\n",
       "      <th>deleted_at</th>\n",
       "      <td>57.21</td>\n",
       "    </tr>\n",
       "  </tbody>\n",
       "</table>\n",
       "</div>"
      ],
      "text/plain": [
       "                0\n",
       "id           0.00\n",
       "company_id   0.00\n",
       "user_id     25.16\n",
       "role_id      0.00\n",
       "created_at   0.00\n",
       "updated_at   0.00\n",
       "is_deleted   0.00\n",
       "deleted_at  57.21"
      ]
     },
     "execution_count": 19,
     "metadata": {},
     "output_type": "execute_result"
    }
   ],
   "source": [
    "pd.DataFrame(round(people.isna().mean()*100,2))"
   ]
  },
  {
   "cell_type": "markdown",
   "metadata": {},
   "source": [
    "Посмотрим, есть ли повторяющиесся значения в колонке `user_id`, без учета пропусков. А также на посотрим, есть ли дубли в колонке id."
   ]
  },
  {
   "cell_type": "code",
   "execution_count": 20,
   "metadata": {},
   "outputs": [
    {
     "name": "stdout",
     "output_type": "stream",
     "text": [
      "Повторяющихся значений в колонке user_id -  285\n",
      "Повторяющихся значений в колонке id -  0\n"
     ]
    }
   ],
   "source": [
    "print('Повторяющихся значений в колонке user_id - ', people[people['user_id'].notna()]['user_id'].duplicated().sum())\n",
    "print('Повторяющихся значений в колонке id - ', people['id'].duplicated().sum())"
   ]
  },
  {
   "cell_type": "markdown",
   "metadata": {},
   "source": [
    "Мы видим, что кроме 1282 пропусков в этой колонке еще 285 дублей. Возможно, если один человек работал сначала в оджной компании, а потом в другой, он оставался в базе с одним id, но был в рзных компангиях. При этом в колонке id нет пропусков и нет дублей, что все еще больше походит на настоящий user_id.  \n",
    "Посмотрим на максимальное значение в колонке user_id, чтобы выбрать число дла замены."
   ]
  },
  {
   "cell_type": "code",
   "execution_count": 21,
   "metadata": {},
   "outputs": [
    {
     "name": "stdout",
     "output_type": "stream",
     "text": [
      "Максимальное значение в колонке user_id -  12992.0\n"
     ]
    }
   ],
   "source": [
    "print('Максимальное значение в колонке user_id - ', people['user_id'].max())"
   ]
  },
  {
   "cell_type": "markdown",
   "metadata": {},
   "source": [
    "т.к. максимальное знаение 12992, то мы заменим на 99999."
   ]
  },
  {
   "cell_type": "code",
   "execution_count": 22,
   "metadata": {},
   "outputs": [
    {
     "name": "stdout",
     "output_type": "stream",
     "text": [
      "Строк с пропусками в  колонке  user_id -  0\n"
     ]
    }
   ],
   "source": [
    "people['user_id'] = people['user_id'].fillna(99999)\n",
    "print('Строк с пропусками в  колонке  user_id - ', people['user_id'].isna().sum())"
   ]
  },
  {
   "cell_type": "markdown",
   "metadata": {},
   "source": [
    "Заполнение пропусков прошло успешно."
   ]
  },
  {
   "cell_type": "markdown",
   "metadata": {},
   "source": [
    "#### Проверка на явные дубли"
   ]
  },
  {
   "cell_type": "markdown",
   "metadata": {},
   "source": [
    "Проверим датафреймы на явные дубли."
   ]
  },
  {
   "cell_type": "code",
   "execution_count": 23,
   "metadata": {},
   "outputs": [
    {
     "name": "stdout",
     "output_type": "stream",
     "text": [
      "Явных дублей в датафреме activities - 0\n",
      "Явных дублей в датафреме billing - 0\n",
      "Явных дублей в датафреме companies - 0\n",
      "Явных дублей в датафреме people - 0\n"
     ]
    }
   ],
   "source": [
    "activities.name = 'activities'\n",
    "billing.name = 'billing'\n",
    "companies.name = 'companies'\n",
    "people.name = 'people'\n",
    "\n",
    "for i in (activities, billing, companies, people):\n",
    "    print(f'Явных дублей в датафреме {i.name} - {i.duplicated().sum()}')"
   ]
  },
  {
   "cell_type": "markdown",
   "metadata": {},
   "source": [
    "Явных дублей в датафрейме нет."
   ]
  },
  {
   "cell_type": "markdown",
   "metadata": {},
   "source": [
    "#### Проверка на неявные дубли"
   ]
  },
  {
   "cell_type": "markdown",
   "metadata": {},
   "source": [
    "Проверим даатфреймы на наличие неявных дублей.  \n",
    "Для начала посмотрим на датафрейм **activities**, в нем нас интересует только один столбец - `month`, т.к. остальные столбцы или id, или количественные показатели."
   ]
  },
  {
   "cell_type": "code",
   "execution_count": 24,
   "metadata": {},
   "outputs": [
    {
     "data": {
      "text/html": [
       "<div>\n",
       "<style scoped>\n",
       "    .dataframe tbody tr th:only-of-type {\n",
       "        vertical-align: middle;\n",
       "    }\n",
       "\n",
       "    .dataframe tbody tr th {\n",
       "        vertical-align: top;\n",
       "    }\n",
       "\n",
       "    .dataframe thead th {\n",
       "        text-align: right;\n",
       "    }\n",
       "</style>\n",
       "<table border=\"1\" class=\"dataframe\">\n",
       "  <thead>\n",
       "    <tr style=\"text-align: right;\">\n",
       "      <th></th>\n",
       "      <th>company_id</th>\n",
       "      <th>month</th>\n",
       "      <th>company_month_billing</th>\n",
       "      <th>company_month_stocks</th>\n",
       "      <th>company_month_backups</th>\n",
       "      <th>company_month_projects</th>\n",
       "      <th>company_month_contractors</th>\n",
       "      <th>company_month_resource_orders</th>\n",
       "    </tr>\n",
       "  </thead>\n",
       "  <tbody>\n",
       "    <tr>\n",
       "      <th>0</th>\n",
       "      <td>1</td>\n",
       "      <td>2019-09-01 00:00:00+00:00</td>\n",
       "      <td>1.0</td>\n",
       "      <td>0.0</td>\n",
       "      <td>0.0</td>\n",
       "      <td>7.0</td>\n",
       "      <td>0.0</td>\n",
       "      <td>0.0</td>\n",
       "    </tr>\n",
       "    <tr>\n",
       "      <th>1</th>\n",
       "      <td>1</td>\n",
       "      <td>2019-12-01 00:00:00+00:00</td>\n",
       "      <td>1.0</td>\n",
       "      <td>0.0</td>\n",
       "      <td>0.0</td>\n",
       "      <td>2.0</td>\n",
       "      <td>1.0</td>\n",
       "      <td>0.0</td>\n",
       "    </tr>\n",
       "    <tr>\n",
       "      <th>2</th>\n",
       "      <td>1</td>\n",
       "      <td>2020-04-01 00:00:00+00:00</td>\n",
       "      <td>4.0</td>\n",
       "      <td>1.0</td>\n",
       "      <td>0.0</td>\n",
       "      <td>1.0</td>\n",
       "      <td>6.0</td>\n",
       "      <td>0.0</td>\n",
       "    </tr>\n",
       "    <tr>\n",
       "      <th>3</th>\n",
       "      <td>1</td>\n",
       "      <td>2020-07-01 00:00:00+00:00</td>\n",
       "      <td>1.0</td>\n",
       "      <td>7.0</td>\n",
       "      <td>3.0</td>\n",
       "      <td>5.0</td>\n",
       "      <td>0.0</td>\n",
       "      <td>0.0</td>\n",
       "    </tr>\n",
       "    <tr>\n",
       "      <th>4</th>\n",
       "      <td>21</td>\n",
       "      <td>2020-01-01 00:00:00+00:00</td>\n",
       "      <td>3.0</td>\n",
       "      <td>0.0</td>\n",
       "      <td>0.0</td>\n",
       "      <td>1.0</td>\n",
       "      <td>0.0</td>\n",
       "      <td>0.0</td>\n",
       "    </tr>\n",
       "  </tbody>\n",
       "</table>\n",
       "</div>"
      ],
      "text/plain": [
       "   company_id                      month  company_month_billing  \\\n",
       "0           1  2019-09-01 00:00:00+00:00                    1.0   \n",
       "1           1  2019-12-01 00:00:00+00:00                    1.0   \n",
       "2           1  2020-04-01 00:00:00+00:00                    4.0   \n",
       "3           1  2020-07-01 00:00:00+00:00                    1.0   \n",
       "4          21  2020-01-01 00:00:00+00:00                    3.0   \n",
       "\n",
       "   company_month_stocks  company_month_backups  company_month_projects  \\\n",
       "0                   0.0                    0.0                     7.0   \n",
       "1                   0.0                    0.0                     2.0   \n",
       "2                   1.0                    0.0                     1.0   \n",
       "3                   7.0                    3.0                     5.0   \n",
       "4                   0.0                    0.0                     1.0   \n",
       "\n",
       "   company_month_contractors  company_month_resource_orders  \n",
       "0                        0.0                            0.0  \n",
       "1                        1.0                            0.0  \n",
       "2                        6.0                            0.0  \n",
       "3                        0.0                            0.0  \n",
       "4                        0.0                            0.0  "
      ]
     },
     "execution_count": 24,
     "metadata": {},
     "output_type": "execute_result"
    }
   ],
   "source": [
    "activities.head()"
   ]
  },
  {
   "cell_type": "code",
   "execution_count": 25,
   "metadata": {},
   "outputs": [
    {
     "name": "stdout",
     "output_type": "stream",
     "text": [
      "Количесво уникальных значений в столбце month -  63\n",
      "Самый ранний месяц -  2019-01-01 00:00:00+00:00\n",
      "Самый поздний месяц -  2024-03-01 00:00:00+00:00\n"
     ]
    }
   ],
   "source": [
    "print('Количесво уникальных значений в столбце month - ', activities['month'].nunique())\n",
    "print('Самый ранний месяц - ', activities['month'].min())\n",
    "print('Самый поздний месяц - ', activities['month'].max())"
   ]
  },
  {
   "cell_type": "markdown",
   "metadata": {},
   "source": [
    "Как мы видим, в столбце данные с января 2019 года по март 2024 года, а это как раз 63 месяца. "
   ]
  },
  {
   "cell_type": "markdown",
   "metadata": {},
   "source": [
    "Датафрейм **billing** - в нем мы проверим столбец `billing_tariff_id`."
   ]
  },
  {
   "cell_type": "code",
   "execution_count": 26,
   "metadata": {},
   "outputs": [
    {
     "name": "stdout",
     "output_type": "stream",
     "text": [
      "Уникальные тарифы в колонке billing_tariff_id -  [ 2  3  4  6  7  9 10 11 13 17 19 20 21]\n"
     ]
    }
   ],
   "source": [
    "print('Уникальные тарифы в колонке billing_tariff_id - ', np.sort(billing['billing_tariff_id'].unique()))"
   ]
  },
  {
   "cell_type": "markdown",
   "metadata": {},
   "source": [
    "Мы видим, что из указанных в ТЗ тарифов у нас отсутствует тариф 8, но неизвестных тарифов нет.  Неявных дублей нет."
   ]
  },
  {
   "cell_type": "markdown",
   "metadata": {},
   "source": [
    "Датафрейм **companies** - в нем мы проверим столбец `working_direction`."
   ]
  },
  {
   "cell_type": "code",
   "execution_count": 27,
   "metadata": {},
   "outputs": [
    {
     "data": {
      "text/plain": [
       "array(['-', '- чистовая отделка квартир', '-Инженерные системы',\n",
       "       '-Малоэтажное строительство', '-Отделочные работы МОП, ТЦ, Офисы',\n",
       "       '-Ремонт', '-Ремонт под ключ', '-Строительство и ремонт',\n",
       "       '-Строительство, продажа стройматериалов',\n",
       "       '-малоэтажное строительство', '-ремонт',\n",
       "       '-строительно-монтажное направление. электроснабжение электрификация . ',\n",
       "       '-строительство', '-строительство ', 'it',\n",
       "       'Агрегатор элитных ремонтов', 'Архитектура Строительство',\n",
       "       'Вентиляция Кондиционирование', 'Внутренние Инженерные системы',\n",
       "       'Внутренние отделочные работы', 'Водоподготовка',\n",
       "       'Генеральный подряд', 'Генеральный подрядчик', 'Генподряд',\n",
       "       'Гидроизоляция, ремонт, строительство', 'Дарить людям радость',\n",
       "       'Девелопмент', 'Демонтажные работы', 'Деревья',\n",
       "       'Дизайн интерьеров', 'Дизайн, отделка, мебель',\n",
       "       'Дома для хорошей жизни', 'Загородное строительство',\n",
       "       'Изготовление заборов', 'Инвестиционно-строительная компания',\n",
       "       'Инженерные системы', 'Кап.ремонт', 'Капитальный ремонт МКД',\n",
       "       'Капитальный ремонт ФКР',\n",
       "       'Компания по строительству каркасных домов и бань',\n",
       "       'Комплексное строительство', 'Комплексные ремонты',\n",
       "       'Кровля, фасады, внутренняя отделка',\n",
       "       'Ландшафтно-строительная компания', 'Малоэтажное домостроение',\n",
       "       'Малоэтажное строительство', 'Малоэтажное строительство ',\n",
       "       'Металлоконструкции', 'Модульное строительство домов и бань',\n",
       "       'Монолитные работы', 'Монтаж инженерных систем',\n",
       "       'Наружные сети, бетонные работы', 'Облицовка фасадов',\n",
       "       'Общестроительные работы', 'Отделка', 'Отделка ',\n",
       "       'Отделка домов и бань', 'Отделочные работы',\n",
       "       'Премиальная покраска и утепление деревянных домов',\n",
       "       'Проводные и беспроводные инженерные системы \"под ключ\".',\n",
       "       'Проектирование и строительство инженерных систем',\n",
       "       'Проектирование и строительство мостов',\n",
       "       'Проектирование и строительство ресторанов ',\n",
       "       'Проектирование,  Производство и Строительство',\n",
       "       'Проектирование, строительство',\n",
       "       'Проектирование. Строительство. Вентилируемые фасады. Производство каркасных домов',\n",
       "       'Производство домов', 'Производство и строительство домов',\n",
       "       'Производство и строительство шумозащитных экранов',\n",
       "       'Производство модульных домов', 'Ремонт',\n",
       "       'Ремонт и комплектация строительных объектов',\n",
       "       'Ремонт и отделка помещений',\n",
       "       'Ремонт и реконструкция помещений жилого и коммерческого назначения       ',\n",
       "       'Ремонт и строительство', 'Ремонт квартир', 'Ремонт квартир ',\n",
       "       'Ремонт квартир и загородной недвижимости ',\n",
       "       'Ремонт квартир и строительство небольших малоэтажных зданий',\n",
       "       'Ремонт под ключ', 'Ремонт помещений',\n",
       "       'Ремонт, Дизайн, Строительство', 'Ремонт/Отделка помещений',\n",
       "       'Ремонтно Строительная компания ', 'Ремонтно отделочные работы',\n",
       "       'Ремонтно-строительная ', 'Ремонтно-строительная компания',\n",
       "       'Ремонтные работы', 'Ремонты домов и квартир', 'СТРОИТЕЛЬСТВО',\n",
       "       'СТРОИТЕЛЬСТВО ДОМОВ', 'Светопрозрачные конструкции ',\n",
       "       'Системы безопасности и автоматизации', 'Слаботочные системы',\n",
       "       'Снабжение и Строительство недвижимости',\n",
       "       'Создание объектов СПА и ВЕЛНЕСС', 'Строительная ',\n",
       "       'Строительная компания', 'Строительно монтажные работы',\n",
       "       'Строительно отделочные работы', 'Строительно-монтажная',\n",
       "       'Строительно-монтажно-ремонтные работы',\n",
       "       'Строительно-монтажные работы', 'Строительно-ремонтная компания',\n",
       "       'Строительные и отделочные работы, продажа материалов',\n",
       "       'Строительство', 'Строительство ', 'Строительство Домов',\n",
       "       'Строительство Загородных Домов',\n",
       "       'Строительство бассейнов, домов, ремонт квартир и офисов',\n",
       "       'Строительство деревянных домов.', 'Строительство домов',\n",
       "       'Строительство домов из кедра',\n",
       "       'Строительство жилых и не жилых зданий',\n",
       "       'Строительство жилых и нежилых зданий',\n",
       "       'Строительство жилых и нежилых зданий (основной)',\n",
       "       'Строительство загородных домов', 'Строительство зданий',\n",
       "       'Строительство зданий и инженерных сетей',\n",
       "       'Строительство зданий и сооружений', 'Строительство и застройка',\n",
       "       'Строительство и монтаж', 'Строительство и проектирование',\n",
       "       'Строительство и проектирование зданий и сооружений ',\n",
       "       'Строительство и ремонт', 'Строительство из ЛСТК и ФПБ',\n",
       "       'Строительство инженерных коммуникаций',\n",
       "       'Строительство каркасных домов', 'Строительство коттеджей',\n",
       "       'Строительство коттеджей ', 'Строительство молоэтажных домов',\n",
       "       'Строительство объектов связи',\n",
       "       'Строительство объектов энергетики',\n",
       "       'Строительство рыбоводных ферм',\n",
       "       'Строительство спортивных и детски площадок',\n",
       "       'Строительство частной и коммерческой недвижимости с 2008 г.',\n",
       "       'Строительство частных домов',\n",
       "       'Строительство энергоэффективных зданий малой этажности',\n",
       "       'Строительство, Ремонт', 'Строительство, монтаж инженерных систем',\n",
       "       'Строительство. Ремонт. Дизайн.', 'ФАСАДЫ ОСТЕКЛЕНИЕ',\n",
       "       'Фасады, СПК', 'Частное домостроение', 'Электромонтаж',\n",
       "       'Электромонтажные работы', 'Электромонтажные работы      ',\n",
       "       'Электроэнергетика ', 'Эффективные инженерные системы',\n",
       "       'благоустройство', 'загородное строительство',\n",
       "       'капитальное строительство', 'малоэтажное строительство ',\n",
       "       'продажа домов', 'проектирование производство строительство',\n",
       "       'ремонт', 'ремонт и отделка', 'ремонт квартир',\n",
       "       'ремонтно-отделочные работы', 'строительная компания (тест)',\n",
       "       'строительство', 'строительство ', 'строительство  и отделка',\n",
       "       'строительство быстровозводимых зданий ',\n",
       "       'строительство загородных домов',\n",
       "       'строительство энергетических обьектов',\n",
       "       'строительство, отделочные работы', 'стройтельство',\n",
       "       'телемаркетинг'], dtype=object)"
      ]
     },
     "execution_count": 27,
     "metadata": {},
     "output_type": "execute_result"
    }
   ],
   "source": [
    "np.sort(companies['working_direction'].unique())"
   ]
  },
  {
   "cell_type": "markdown",
   "metadata": {},
   "source": [
    "Как и ожидалось, основная часть клиентов занимается строительством. Мы видим большое количество разных видов строителства, ремонта, отделки и проектирования в этой колонке.  \n",
    "Возможно едобнее было бы делить кампании на созданнеы заранее категории, для удобства сегментирования.  \n",
    "Попробуем поделить компании на категории самостоятельно:  \n",
    "строительство, ремонт, отделка, noinfo и другое."
   ]
  },
  {
   "cell_type": "code",
   "execution_count": 28,
   "metadata": {},
   "outputs": [],
   "source": [
    "def working_direction_cat(cell_value):\n",
    "    #проверяем, содержит ли ячейка строит или строй и возвращаем строительство\n",
    "    if 'строит' in str(cell_value).lower() or 'строй' in str(cell_value).lower():\n",
    "        return 'строительство'    \n",
    "    #проверяем, содержит ли ячейка ремонт и возвращаем ремонт\n",
    "    elif 'ремонт' in str(cell_value).lower() :\n",
    "        return 'ремонт'    \n",
    "    #проверяем, содержит ли ячейка отдел и возвращаем отделка\n",
    "    elif 'отдел' in str(cell_value).lower() :\n",
    "        return 'отделка'  \n",
    "      #проверяем, содержит ли ячейка ремонт и возвращаем ремонт\n",
    "    elif '-' in str(cell_value).lower() :\n",
    "        return 'noinfo'  \n",
    "    #в остальных случаях возвращаем другое\n",
    "    else:\n",
    "        return  'другое'"
   ]
  },
  {
   "cell_type": "code",
   "execution_count": 29,
   "metadata": {},
   "outputs": [
    {
     "name": "stdout",
     "output_type": "stream",
     "text": [
      "working_cat\n",
      "noinfo           456\n",
      "строительство    181\n",
      "другое            45\n",
      "ремонт            25\n",
      "отделка            9\n",
      "Name: count, dtype: int64\n"
     ]
    }
   ],
   "source": [
    "companies['working_cat'] = companies['working_direction'].apply(working_direction_cat)\n",
    "print(companies['working_cat'].value_counts())"
   ]
  },
  {
   "cell_type": "markdown",
   "metadata": {},
   "source": [
    "Мы видим, что у большей части компаний не была указана сфера деятельности, а из оставшихся кампаний большая часть занимается строительством."
   ]
  },
  {
   "cell_type": "markdown",
   "metadata": {},
   "source": [
    "Датафрйем **people** мы не будем проверять на неявные дубли, т.к. он состоит из численных значений."
   ]
  },
  {
   "cell_type": "markdown",
   "metadata": {},
   "source": [
    "#### Преобразование форматов данных"
   ]
  },
  {
   "cell_type": "markdown",
   "metadata": {},
   "source": [
    "Для дальнейшей работы приведем форматы данных к удобному типу."
   ]
  },
  {
   "cell_type": "markdown",
   "metadata": {},
   "source": [
    "Для датафрейма **activities** колонку `month` приведем к формату datetime64, а оставшиеся колонки приведем к формату int, т.к. они содержат только целочисленные значения."
   ]
  },
  {
   "cell_type": "code",
   "execution_count": 30,
   "metadata": {},
   "outputs": [
    {
     "name": "stdout",
     "output_type": "stream",
     "text": [
      "<class 'pandas.core.frame.DataFrame'>\n",
      "Index: 6316 entries, 0 to 6556\n",
      "Data columns (total 8 columns):\n",
      " #   Column                         Non-Null Count  Dtype              \n",
      "---  ------                         --------------  -----              \n",
      " 0   company_id                     6316 non-null   int64              \n",
      " 1   month                          6316 non-null   datetime64[ns, UTC]\n",
      " 2   company_month_billing          6316 non-null   int64              \n",
      " 3   company_month_stocks           6316 non-null   int64              \n",
      " 4   company_month_backups          6316 non-null   int64              \n",
      " 5   company_month_projects         6316 non-null   int64              \n",
      " 6   company_month_contractors      6316 non-null   int64              \n",
      " 7   company_month_resource_orders  6316 non-null   int64              \n",
      "dtypes: datetime64[ns, UTC](1), int64(7)\n",
      "memory usage: 444.1 KB\n",
      "None\n"
     ]
    }
   ],
   "source": [
    "for i in activities.columns:\n",
    "    if i == 'month':\n",
    "        activities[i] = pd.to_datetime(activities[i], format='%Y-%m-%d %H:%M:%S%z')\n",
    "    else:\n",
    "        activities[i] = activities[i].astype('int')\n",
    "\n",
    "print(activities.info())"
   ]
  },
  {
   "cell_type": "markdown",
   "metadata": {},
   "source": [
    "Предобразование прошло успешно."
   ]
  },
  {
   "cell_type": "markdown",
   "metadata": {},
   "source": [
    "В датафрейме **billing** мы изменим тип данных у колонки `billing_tariff_price_id` на int, т.к. она содержит только целые числа, а колонки `payed_until`, `created_at`, `updated_at` и `pay_date` из формата UNIX приведем к формату даты datetime64."
   ]
  },
  {
   "cell_type": "code",
   "execution_count": 31,
   "metadata": {},
   "outputs": [
    {
     "name": "stdout",
     "output_type": "stream",
     "text": [
      "<class 'pandas.core.frame.DataFrame'>\n",
      "Index: 3480 entries, 4 to 18953\n",
      "Data columns (total 11 columns):\n",
      " #   Column                   Non-Null Count  Dtype         \n",
      "---  ------                   --------------  -----         \n",
      " 0   id                       3480 non-null   int64         \n",
      " 1   user_id                  3480 non-null   int64         \n",
      " 2   company_id               3480 non-null   int64         \n",
      " 3   billing_tariff_id        3480 non-null   int64         \n",
      " 4   payed_until              3480 non-null   datetime64[ns]\n",
      " 5   is_payed                 3480 non-null   bool          \n",
      " 6   created_at               3480 non-null   datetime64[ns]\n",
      " 7   updated_at               3480 non-null   datetime64[ns]\n",
      " 8   billing_tariff_price_id  3480 non-null   int64         \n",
      " 9   comment                  745 non-null    object        \n",
      " 10  pay_date                 1108 non-null   datetime64[ns]\n",
      "dtypes: bool(1), datetime64[ns](4), int64(5), object(1)\n",
      "memory usage: 302.5+ KB\n",
      "None\n"
     ]
    }
   ],
   "source": [
    "for i in ('billing_tariff_price_id', 'payed_until', 'created_at', 'updated_at', 'pay_date'):\n",
    "    if i == 'billing_tariff_price_id':\n",
    "        billing[i] = billing[i].astype('int')\n",
    "    else:\n",
    "        billing[i] = pd.to_datetime(billing[i],unit='s')\n",
    "\n",
    "print(billing.info())"
   ]
  },
  {
   "cell_type": "markdown",
   "metadata": {},
   "source": [
    "Предобразование прошло успешно."
   ]
  },
  {
   "cell_type": "markdown",
   "metadata": {},
   "source": [
    "В датафрейме **companies** мы изменим тип данных у колонок  `employer_count_interval` и `billing_tariff_id` на int, т.к. они содержит только целые числа, а колонки `created_at` и `updated_at` из формата UNIX приведем к формату даты datetime64."
   ]
  },
  {
   "cell_type": "code",
   "execution_count": 32,
   "metadata": {},
   "outputs": [
    {
     "name": "stdout",
     "output_type": "stream",
     "text": [
      "<class 'pandas.core.frame.DataFrame'>\n",
      "Index: 716 entries, 19 to 17972\n",
      "Data columns (total 8 columns):\n",
      " #   Column                   Non-Null Count  Dtype         \n",
      "---  ------                   --------------  -----         \n",
      " 0   id                       716 non-null    int64         \n",
      " 1   working_direction        716 non-null    object        \n",
      " 2   employer_count_interval  716 non-null    int64         \n",
      " 3   created_at               716 non-null    datetime64[ns]\n",
      " 4   updated_at               716 non-null    datetime64[ns]\n",
      " 5   billing_tariff_id        716 non-null    int64         \n",
      " 6   billing_is_over          716 non-null    bool          \n",
      " 7   working_cat              716 non-null    object        \n",
      "dtypes: bool(1), datetime64[ns](2), int64(3), object(2)\n",
      "memory usage: 45.4+ KB\n",
      "None\n"
     ]
    }
   ],
   "source": [
    "for i in ('employer_count_interval', 'created_at', 'updated_at', 'billing_tariff_id'):\n",
    "    if i == 'employer_count_interval' or i == 'billing_tariff_id':\n",
    "        companies[i] = companies[i].astype('int')\n",
    "    else:\n",
    "        companies[i] = pd.to_datetime(companies[i],unit='s')\n",
    "\n",
    "print(companies.info())"
   ]
  },
  {
   "cell_type": "markdown",
   "metadata": {},
   "source": [
    "Предобразование прошло успешно."
   ]
  },
  {
   "cell_type": "markdown",
   "metadata": {},
   "source": [
    "В датафрейме **people** мы изменим тип данных у колонки  `user_id` на int, т.к. она содержит только целые числа, а колонки `created_at`, `updated_at` и `deleted_at` из формата UNIX приведем к формату даты datetime64."
   ]
  },
  {
   "cell_type": "code",
   "execution_count": 33,
   "metadata": {},
   "outputs": [
    {
     "name": "stdout",
     "output_type": "stream",
     "text": [
      "<class 'pandas.core.frame.DataFrame'>\n",
      "Index: 5095 entries, 2 to 17054\n",
      "Data columns (total 8 columns):\n",
      " #   Column      Non-Null Count  Dtype         \n",
      "---  ------      --------------  -----         \n",
      " 0   id          5095 non-null   int64         \n",
      " 1   company_id  5095 non-null   int64         \n",
      " 2   user_id     5095 non-null   int64         \n",
      " 3   role_id     5095 non-null   int64         \n",
      " 4   created_at  5095 non-null   datetime64[ns]\n",
      " 5   updated_at  5095 non-null   datetime64[ns]\n",
      " 6   is_deleted  5095 non-null   bool          \n",
      " 7   deleted_at  2180 non-null   datetime64[ns]\n",
      "dtypes: bool(1), datetime64[ns](3), int64(4)\n",
      "memory usage: 323.4 KB\n",
      "None\n"
     ]
    }
   ],
   "source": [
    "for i in ('user_id', 'created_at', 'updated_at', 'deleted_at'):\n",
    "    if i == 'user_id':\n",
    "        people[i] = people[i].astype('int')\n",
    "    else:\n",
    "        people[i] = pd.to_datetime(people[i],unit='s')\n",
    "\n",
    "print(people.info())"
   ]
  },
  {
   "cell_type": "markdown",
   "metadata": {},
   "source": [
    "Предобразование прошло успешно."
   ]
  },
  {
   "cell_type": "markdown",
   "metadata": {},
   "source": [
    "**Вывод**  \n",
    "Мы подготовили данные к анализу:\n",
    "\n",
    "- переименовали столбцы и привели их к “змеиному регистру”,\n",
    "- проверили на пропуски датафрейм,\n",
    "- проверили на явные дубли и удалили неявные,\n",
    "- привели форматы столбцов к удобному: столбцы с целыми числами к int, а столбцы с датой к формату datetime."
   ]
  },
  {
   "cell_type": "markdown",
   "metadata": {},
   "source": [
    "## Исследовательский анализ данных"
   ]
  },
  {
   "cell_type": "code",
   "execution_count": 34,
   "metadata": {},
   "outputs": [
    {
     "data": {
      "text/html": [
       "<div>\n",
       "<style scoped>\n",
       "    .dataframe tbody tr th:only-of-type {\n",
       "        vertical-align: middle;\n",
       "    }\n",
       "\n",
       "    .dataframe tbody tr th {\n",
       "        vertical-align: top;\n",
       "    }\n",
       "\n",
       "    .dataframe thead th {\n",
       "        text-align: right;\n",
       "    }\n",
       "</style>\n",
       "<table border=\"1\" class=\"dataframe\">\n",
       "  <thead>\n",
       "    <tr style=\"text-align: right;\">\n",
       "      <th></th>\n",
       "      <th>id</th>\n",
       "      <th>company_id</th>\n",
       "      <th>user_id</th>\n",
       "      <th>role_id</th>\n",
       "      <th>created_at</th>\n",
       "      <th>updated_at</th>\n",
       "      <th>is_deleted</th>\n",
       "      <th>deleted_at</th>\n",
       "    </tr>\n",
       "  </thead>\n",
       "  <tbody>\n",
       "    <tr>\n",
       "      <th>2</th>\n",
       "      <td>6601</td>\n",
       "      <td>495</td>\n",
       "      <td>99999</td>\n",
       "      <td>7133</td>\n",
       "      <td>2019-10-08 11:59:22</td>\n",
       "      <td>2019-10-08 11:59:22</td>\n",
       "      <td>True</td>\n",
       "      <td>2020-07-06 20:19:28</td>\n",
       "    </tr>\n",
       "    <tr>\n",
       "      <th>6</th>\n",
       "      <td>7025</td>\n",
       "      <td>1</td>\n",
       "      <td>99999</td>\n",
       "      <td>1</td>\n",
       "      <td>2020-07-07 11:14:44</td>\n",
       "      <td>2020-07-07 11:14:44</td>\n",
       "      <td>True</td>\n",
       "      <td>2020-07-07 11:14:48</td>\n",
       "    </tr>\n",
       "    <tr>\n",
       "      <th>7</th>\n",
       "      <td>7165</td>\n",
       "      <td>1255</td>\n",
       "      <td>1734</td>\n",
       "      <td>18085</td>\n",
       "      <td>2020-07-22 17:15:02</td>\n",
       "      <td>2020-07-22 17:36:31</td>\n",
       "      <td>True</td>\n",
       "      <td>2021-10-11 13:48:02</td>\n",
       "    </tr>\n",
       "    <tr>\n",
       "      <th>10</th>\n",
       "      <td>7130</td>\n",
       "      <td>1470</td>\n",
       "      <td>1703</td>\n",
       "      <td>1</td>\n",
       "      <td>2020-07-20 08:47:04</td>\n",
       "      <td>2020-07-20 08:47:04</td>\n",
       "      <td>False</td>\n",
       "      <td>NaT</td>\n",
       "    </tr>\n",
       "    <tr>\n",
       "      <th>17</th>\n",
       "      <td>7163</td>\n",
       "      <td>1492</td>\n",
       "      <td>1731</td>\n",
       "      <td>1</td>\n",
       "      <td>2020-07-22 14:46:51</td>\n",
       "      <td>2020-08-27 15:04:04</td>\n",
       "      <td>True</td>\n",
       "      <td>2021-05-05 06:15:18</td>\n",
       "    </tr>\n",
       "  </tbody>\n",
       "</table>\n",
       "</div>"
      ],
      "text/plain": [
       "      id  company_id  user_id  role_id          created_at  \\\n",
       "2   6601         495    99999     7133 2019-10-08 11:59:22   \n",
       "6   7025           1    99999        1 2020-07-07 11:14:44   \n",
       "7   7165        1255     1734    18085 2020-07-22 17:15:02   \n",
       "10  7130        1470     1703        1 2020-07-20 08:47:04   \n",
       "17  7163        1492     1731        1 2020-07-22 14:46:51   \n",
       "\n",
       "            updated_at  is_deleted          deleted_at  \n",
       "2  2019-10-08 11:59:22        True 2020-07-06 20:19:28  \n",
       "6  2020-07-07 11:14:44        True 2020-07-07 11:14:48  \n",
       "7  2020-07-22 17:36:31        True 2021-10-11 13:48:02  \n",
       "10 2020-07-20 08:47:04       False                 NaT  \n",
       "17 2020-08-27 15:04:04        True 2021-05-05 06:15:18  "
      ]
     },
     "execution_count": 34,
     "metadata": {},
     "output_type": "execute_result"
    }
   ],
   "source": [
    "people.head()"
   ]
  },
  {
   "cell_type": "code",
   "execution_count": 35,
   "metadata": {},
   "outputs": [],
   "source": [
    "# activities, billing, companies, people"
   ]
  }
 ],
 "metadata": {
  "kernelspec": {
   "display_name": "venv",
   "language": "python",
   "name": "python3"
  },
  "language_info": {
   "codemirror_mode": {
    "name": "ipython",
    "version": 3
   },
   "file_extension": ".py",
   "mimetype": "text/x-python",
   "name": "python",
   "nbconvert_exporter": "python",
   "pygments_lexer": "ipython3",
   "version": "3.11.7"
  }
 },
 "nbformat": 4,
 "nbformat_minor": 2
}
